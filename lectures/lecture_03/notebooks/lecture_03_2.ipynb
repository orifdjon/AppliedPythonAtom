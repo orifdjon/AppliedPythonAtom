{
 "cells": [
  {
   "cell_type": "markdown",
   "metadata": {},
   "source": [
    "# Super - это супер"
   ]
  },
  {
   "cell_type": "code",
   "execution_count": 1,
   "metadata": {},
   "outputs": [
    {
     "name": "stdout",
     "output_type": "stream",
     "text": [
      "8\n",
      "1\n"
     ]
    }
   ],
   "source": [
    "class BasicCalculator:\n",
    "    \n",
    "    def plus(self, a, b):\n",
    "        return a + b\n",
    "    \n",
    "    def minus(self, a, b):\n",
    "        return a - b\n",
    "\n",
    "basic_calc = BasicCalculator()\n",
    "print(basic_calc.plus(3, 5))\n",
    "print(basic_calc.minus(5, 4))"
   ]
  },
  {
   "cell_type": "code",
   "execution_count": 2,
   "metadata": {},
   "outputs": [
    {
     "name": "stdout",
     "output_type": "stream",
     "text": [
      "8\n",
      "1\n",
      "9\n"
     ]
    }
   ],
   "source": [
    "class AdvancedCalculator(BasicCalculator):\n",
    "    \n",
    "    def mult(self, a, b):\n",
    "        t = 0\n",
    "        for _ in range(b):\n",
    "            t = super().plus(t, a)\n",
    "        return t\n",
    "\n",
    "advanced_calc = AdvancedCalculator()\n",
    "print(advanced_calc.plus(3, 5))\n",
    "print(advanced_calc.minus(5, 4))\n",
    "print(advanced_calc.mult(3, 3))"
   ]
  },
  {
   "cell_type": "code",
   "execution_count": 3,
   "metadata": {},
   "outputs": [
    {
     "name": "stdout",
     "output_type": "stream",
     "text": [
      "Help on AdvancedCalculator in module __main__ object:\n",
      "\n",
      "class AdvancedCalculator(BasicCalculator)\n",
      " |  Method resolution order:\n",
      " |      AdvancedCalculator\n",
      " |      BasicCalculator\n",
      " |      builtins.object\n",
      " |  \n",
      " |  Methods defined here:\n",
      " |  \n",
      " |  mult(self, a, b)\n",
      " |  \n",
      " |  ----------------------------------------------------------------------\n",
      " |  Methods inherited from BasicCalculator:\n",
      " |  \n",
      " |  minus(self, a, b)\n",
      " |  \n",
      " |  plus(self, a, b)\n",
      " |  \n",
      " |  ----------------------------------------------------------------------\n",
      " |  Data descriptors inherited from BasicCalculator:\n",
      " |  \n",
      " |  __dict__\n",
      " |      dictionary for instance variables (if defined)\n",
      " |  \n",
      " |  __weakref__\n",
      " |      list of weak references to the object (if defined)\n",
      "\n"
     ]
    }
   ],
   "source": [
    "help(advanced_calc)"
   ]
  },
  {
   "cell_type": "code",
   "execution_count": null,
   "metadata": {
    "collapsed": true
   },
   "outputs": [],
   "source": [
    "class Adam:\n",
    "    def eat(self):\n",
    "        print(\"Adam eats\")\n",
    "        \n",
    "class Eva:\n",
    "    def eat(self):\n",
    "        print(\"Eva eats\")\n",
    "        \n",
    "class MotherOfMother(Adam, Eva):\n",
    "    def eat(self):\n",
    "        print(\"MotherOfMother eats\")\n",
    "        \n",
    "class FatherOfMother(Adam, Eva):\n",
    "    def eat(self):\n",
    "        print(\"FatherOfMother eats\")\n",
    "        \n",
    "class MotherOfFather(Adam, Eva):\n",
    "    def eat(self):\n",
    "        print(\"MotherOfFather eats\")\n",
    "        \n",
    "class FatherOfFather(Adam, Eva):\n",
    "    def eat(self):\n",
    "        print(\"FatherOfFather eats\")\n",
    "        \n",
    "class Mother(MotherOfMother, FatherOfMother):\n",
    "    def eat(self):\n",
    "        print(\"Mother eats\")\n",
    "        \n",
    "class Father(MotherOfFather, FatherOfFather):\n",
    "    def eat(self):\n",
    "        print(\"Father eats\")\n",
    "        \n",
    "class Jonny(Mother, Father):\n",
    "    def eat(self):\n",
    "        print(\"Jonny eats\")\n",
    "        \n",
    "jonny = Jonny()\n",
    "jonny.eat()"
   ]
  },
  {
   "cell_type": "code",
   "execution_count": null,
   "metadata": {
    "collapsed": true
   },
   "outputs": [],
   "source": [
    "class Jonny(Mother, Father):\n",
    "    pass\n",
    "jonny = Jonny()\n",
    "jonny.eat()"
   ]
  },
  {
   "cell_type": "code",
   "execution_count": null,
   "metadata": {
    "collapsed": true
   },
   "outputs": [],
   "source": [
    "help(jonny)"
   ]
  },
  {
   "cell_type": "code",
   "execution_count": null,
   "metadata": {
    "collapsed": true
   },
   "outputs": [],
   "source": [
    "mother = Mother()\n",
    "help(mother)"
   ]
  },
  {
   "cell_type": "markdown",
   "metadata": {},
   "source": [
    "## Хорошо, вспомнили. Посмотрим другой пример"
   ]
  },
  {
   "cell_type": "code",
   "execution_count": 4,
   "metadata": {},
   "outputs": [
    {
     "name": "stdout",
     "output_type": "stream",
     "text": [
      "И так сойдет\n"
     ]
    }
   ],
   "source": [
    "class Student:\n",
    "    def prepare_for_exam(self):\n",
    "        print(\"И так сойдет\")\n",
    "                \n",
    "class SessionStudent(Student):\n",
    "    def pass_exam(self):\n",
    "        super().prepare_for_exam()\n",
    "        \n",
    "student = SessionStudent()\n",
    "student.pass_exam()"
   ]
  },
  {
   "cell_type": "code",
   "execution_count": 6,
   "metadata": {},
   "outputs": [
    {
     "name": "stdout",
     "output_type": "stream",
     "text": [
      "Ботал 2 недели\n",
      "Help on PreparedStudent in module __main__ object:\n",
      "\n",
      "class PreparedStudent(SessionStudent, TwoWeeksPreparation)\n",
      " |  Method resolution order:\n",
      " |      PreparedStudent\n",
      " |      SessionStudent\n",
      " |      TwoWeeksPreparation\n",
      " |      Student\n",
      " |      builtins.object\n",
      " |  \n",
      " |  Methods inherited from SessionStudent:\n",
      " |  \n",
      " |  pass_exam(self)\n",
      " |  \n",
      " |  ----------------------------------------------------------------------\n",
      " |  Methods inherited from TwoWeeksPreparation:\n",
      " |  \n",
      " |  prepare_for_exam(self)\n",
      " |  \n",
      " |  ----------------------------------------------------------------------\n",
      " |  Data descriptors inherited from Student:\n",
      " |  \n",
      " |  __dict__\n",
      " |      dictionary for instance variables (if defined)\n",
      " |  \n",
      " |  __weakref__\n",
      " |      list of weak references to the object (if defined)\n",
      "\n"
     ]
    }
   ],
   "source": [
    "class TwoWeeksPreparation(Student):\n",
    "    def prepare_for_exam(self):\n",
    "        print(\"Ботал 2 недели\")\n",
    "        \n",
    "class PreparedStudent(SessionStudent, TwoWeeksPreparation):\n",
    "    pass\n",
    "\n",
    "prepared_student = PreparedStudent()\n",
    "prepared_student.pass_exam()  \n",
    "help(prepared_student)"
   ]
  },
  {
   "cell_type": "code",
   "execution_count": 8,
   "metadata": {},
   "outputs": [],
   "source": [
    "class Robot:\n",
    "    def fetch(self):\n",
    "        print(\"Physical movement! Fetching\")\n",
    "    def move_up(self):\n",
    "        print(\"Physical movement! Moving up\")\n",
    "    def move_down(self):\n",
    "        print(\"Physical movement! Moving up\")\n",
    "    def move_right(self):\n",
    "        print(\"Physical movement! Moving right\")\n",
    "    def move_left(self):\n",
    "        print(\"Physical movement! Moving left\")\n",
    "        \n",
    "class CleaningRobot(Robot):\n",
    "    def clean(self):\n",
    "        super().fetch()\n",
    "        for i in range(10):\n",
    "            super().move_up()\n",
    "            super().move_down()\n",
    "            super().move_right()\n",
    "            super().move_left()\n",
    "        print(\"End cleaning\")\n",
    "\n",
    "class MockRobot(Robot):\n",
    "    def __init__(self):\n",
    "        self.actions = []\n",
    "    def move_up(self):\n",
    "        self.actions.append(\"Up!\")\n",
    "    def move_down(self):\n",
    "        self.actions.append(\"Down!\")\n",
    "    def move_right(self):\n",
    "        self.actions.append(\"Right!\")\n",
    "    def move_left(self):\n",
    "        self.actions.append(\"Left!\")\n",
    "    def fetch(self):\n",
    "        self.actions.append(\"Fetch!\")\n",
    "        \n",
    "class MockedCleaningBot(CleaningRobot, MockRobot):\n",
    "    pass"
   ]
  },
  {
   "cell_type": "code",
   "execution_count": 9,
   "metadata": {},
   "outputs": [],
   "source": [
    "mocked_robot = MockedCleaningBot()"
   ]
  },
  {
   "cell_type": "code",
   "execution_count": 10,
   "metadata": {},
   "outputs": [
    {
     "name": "stdout",
     "output_type": "stream",
     "text": [
      "End cleaning\n"
     ]
    }
   ],
   "source": [
    "mocked_robot.clean()"
   ]
  },
  {
   "cell_type": "code",
   "execution_count": 11,
   "metadata": {},
   "outputs": [
    {
     "data": {
      "text/plain": [
       "['Fetch!',\n",
       " 'Up!',\n",
       " 'Down!',\n",
       " 'Right!',\n",
       " 'Left!',\n",
       " 'Up!',\n",
       " 'Down!',\n",
       " 'Right!',\n",
       " 'Left!',\n",
       " 'Up!',\n",
       " 'Down!',\n",
       " 'Right!',\n",
       " 'Left!',\n",
       " 'Up!',\n",
       " 'Down!',\n",
       " 'Right!',\n",
       " 'Left!',\n",
       " 'Up!',\n",
       " 'Down!',\n",
       " 'Right!',\n",
       " 'Left!',\n",
       " 'Up!',\n",
       " 'Down!',\n",
       " 'Right!',\n",
       " 'Left!',\n",
       " 'Up!',\n",
       " 'Down!',\n",
       " 'Right!',\n",
       " 'Left!',\n",
       " 'Up!',\n",
       " 'Down!',\n",
       " 'Right!',\n",
       " 'Left!',\n",
       " 'Up!',\n",
       " 'Down!',\n",
       " 'Right!',\n",
       " 'Left!',\n",
       " 'Up!',\n",
       " 'Down!',\n",
       " 'Right!',\n",
       " 'Left!']"
      ]
     },
     "execution_count": 11,
     "metadata": {},
     "output_type": "execute_result"
    }
   ],
   "source": [
    "mocked_robot.actions"
   ]
  },
  {
   "cell_type": "code",
   "execution_count": 15,
   "metadata": {},
   "outputs": [
    {
     "name": "stdout",
     "output_type": "stream",
     "text": [
      "Рассказал товарищу\n"
     ]
    }
   ],
   "source": [
    "#TODO Создайте тестовый класс студента (подготовленного!), который отвечает экзамен товарищу\n",
    "#По команде prepare_exam должно выводиться \"Рассказал товарищу\", должен наследовать от PreparedStudent\n",
    "class Sdf(TwoWeeksPreparation):\n",
    "    def prepare_for_exam(self):\n",
    "        print(\"Рассказал товарищу\")\n",
    "        \n",
    "class MockPrepared_student(PreparedStudent, Sdf):\n",
    "    pass\n",
    "MockPrepared_student().prepare_for_exam()"
   ]
  },
  {
   "cell_type": "markdown",
   "metadata": {},
   "source": [
    "# Декораторы классов"
   ]
  },
  {
   "cell_type": "code",
   "execution_count": 12,
   "metadata": {},
   "outputs": [],
   "source": [
    "class MyClass:\n",
    "    \n",
    "    def __init__(self, prox):\n",
    "        self.prox = prox"
   ]
  },
  {
   "cell_type": "code",
   "execution_count": null,
   "metadata": {
    "collapsed": true
   },
   "outputs": [],
   "source": [
    "class MyClass:\n",
    "    \n",
    "    is_init = None\n",
    "    \n",
    "    def __new__(cls, *args, **kw):\n",
    "        if cls.is_init is None:\n",
    "            cls.is_init = super().__new__(cls)\n",
    "        return cls.is_init"
   ]
  },
  {
   "cell_type": "code",
   "execution_count": null,
   "metadata": {
    "collapsed": true
   },
   "outputs": [],
   "source": [
    "def singleton(cls):\n",
    "    instances = {}\n",
    "    def getinstance(*args, **kwargs):\n",
    "        if cls not in instances:\n",
    "            instances[cls] = cls(*args, **kwargs)\n",
    "        return instances[cls]\n",
    "    return getinstance\n",
    "\n",
    "@singleton\n",
    "class MyClass:\n",
    "    \n",
    "    def __init__(self, prox):\n",
    "        self.prox = prox"
   ]
  },
  {
   "cell_type": "code",
   "execution_count": null,
   "metadata": {
    "collapsed": true
   },
   "outputs": [],
   "source": [
    "a = MyClass(1)"
   ]
  },
  {
   "cell_type": "code",
   "execution_count": null,
   "metadata": {
    "collapsed": true
   },
   "outputs": [],
   "source": [
    "b = MyClass(1)"
   ]
  },
  {
   "cell_type": "code",
   "execution_count": null,
   "metadata": {
    "collapsed": true
   },
   "outputs": [],
   "source": [
    "a is b"
   ]
  },
  {
   "cell_type": "code",
   "execution_count": null,
   "metadata": {
    "collapsed": true
   },
   "outputs": [],
   "source": [
    "#TODO Напишем декоратор класса, который заполняет все поля конструктура None\n",
    "#import inspect\n",
    "#inspect.getargspec(Super.__init__)"
   ]
  },
  {
   "cell_type": "markdown",
   "metadata": {},
   "source": [
    "# Итераторы"
   ]
  },
  {
   "cell_type": "code",
   "execution_count": 13,
   "metadata": {},
   "outputs": [
    {
     "name": "stdout",
     "output_type": "stream",
     "text": [
      "1\n",
      "1\n",
      "1\n"
     ]
    },
    {
     "ename": "StopIteration",
     "evalue": "",
     "output_type": "error",
     "traceback": [
      "\u001b[1;31m---------------------------------------------------------------------------\u001b[0m",
      "\u001b[1;31mStopIteration\u001b[0m                             Traceback (most recent call last)",
      "\u001b[1;32m<ipython-input-13-0727ab3548f3>\u001b[0m in \u001b[0;36m<module>\u001b[1;34m\u001b[0m\n\u001b[0;32m     15\u001b[0m \u001b[0mprint\u001b[0m\u001b[1;33m(\u001b[0m\u001b[0mnext\u001b[0m\u001b[1;33m(\u001b[0m\u001b[0ms_iter1\u001b[0m\u001b[1;33m)\u001b[0m\u001b[1;33m)\u001b[0m\u001b[1;33m\u001b[0m\u001b[1;33m\u001b[0m\u001b[0m\n\u001b[0;32m     16\u001b[0m \u001b[0mprint\u001b[0m\u001b[1;33m(\u001b[0m\u001b[0mnext\u001b[0m\u001b[1;33m(\u001b[0m\u001b[0ms_iter1\u001b[0m\u001b[1;33m)\u001b[0m\u001b[1;33m)\u001b[0m\u001b[1;33m\u001b[0m\u001b[1;33m\u001b[0m\u001b[0m\n\u001b[1;32m---> 17\u001b[1;33m \u001b[0mprint\u001b[0m\u001b[1;33m(\u001b[0m\u001b[0mnext\u001b[0m\u001b[1;33m(\u001b[0m\u001b[0ms_iter1\u001b[0m\u001b[1;33m)\u001b[0m\u001b[1;33m)\u001b[0m\u001b[1;33m\u001b[0m\u001b[1;33m\u001b[0m\u001b[0m\n\u001b[0m",
      "\u001b[1;32m<ipython-input-13-0727ab3548f3>\u001b[0m in \u001b[0;36m__next__\u001b[1;34m(self)\u001b[0m\n\u001b[0;32m      9\u001b[0m             \u001b[1;32mreturn\u001b[0m \u001b[1;36m1\u001b[0m\u001b[1;33m\u001b[0m\u001b[1;33m\u001b[0m\u001b[0m\n\u001b[0;32m     10\u001b[0m         \u001b[1;32melse\u001b[0m\u001b[1;33m:\u001b[0m\u001b[1;33m\u001b[0m\u001b[1;33m\u001b[0m\u001b[0m\n\u001b[1;32m---> 11\u001b[1;33m             \u001b[1;32mraise\u001b[0m \u001b[0mStopIteration\u001b[0m\u001b[1;33m\u001b[0m\u001b[1;33m\u001b[0m\u001b[0m\n\u001b[0m\u001b[0;32m     12\u001b[0m \u001b[1;33m\u001b[0m\u001b[0m\n\u001b[0;32m     13\u001b[0m \u001b[0ms_iter1\u001b[0m \u001b[1;33m=\u001b[0m \u001b[0mSimpleIterator\u001b[0m\u001b[1;33m(\u001b[0m\u001b[1;36m3\u001b[0m\u001b[1;33m)\u001b[0m\u001b[1;33m\u001b[0m\u001b[1;33m\u001b[0m\u001b[0m\n",
      "\u001b[1;31mStopIteration\u001b[0m: "
     ]
    }
   ],
   "source": [
    "class SimpleIterator:\n",
    "    def __init__(self, limit):\n",
    "        self.limit = limit\n",
    "        self.counter = 0\n",
    "\n",
    "    def __next__(self):\n",
    "        if self.counter < self.limit:\n",
    "            self.counter += 1\n",
    "            return 1\n",
    "        else:\n",
    "            raise StopIteration\n",
    "\n",
    "s_iter1 = SimpleIterator(3)\n",
    "print(next(s_iter1))\n",
    "print(next(s_iter1))\n",
    "print(next(s_iter1))\n",
    "print(next(s_iter1))"
   ]
  },
  {
   "cell_type": "code",
   "execution_count": null,
   "metadata": {
    "collapsed": true
   },
   "outputs": [],
   "source": [
    "class SimpleIterator:\n",
    "    def __iter__(self):\n",
    "        return self\n",
    "\n",
    "    def __init__(self, limit):\n",
    "        self.limit = limit\n",
    "        self.counter = 0\n",
    "\n",
    "    def __next__(self):\n",
    "        if self.counter < self.limit:\n",
    "            self.counter += 1\n",
    "            return 1\n",
    "        else:\n",
    "            raise StopIteration"
   ]
  },
  {
   "cell_type": "code",
   "execution_count": null,
   "metadata": {
    "collapsed": true
   },
   "outputs": [],
   "source": [
    "#TODO Написать итератор по csv файлу \n",
    "#В первой строке хранится header файл, нужно для каждой строки возвращать dict вида {\"column_name\": row_value}\n",
    "#гарантируется, что все имена столбцов различны\n",
    "class CSVIterator():\n",
    "    def __init__(self, data):\n",
    "        self.limit = limit\n",
    "        self.counter = 0\n",
    "        self.dict = {}\n",
    "        \n",
    "    def __next__(self):\n",
    "        if self.counter < self.limit:\n",
    "            if self.\n",
    "            self.counter += 1\n",
    "            return dict\n",
    "        \n",
    "        \n",
    "    def __iter__(self):\n",
    "        return self"
   ]
  },
  {
   "cell_type": "markdown",
   "metadata": {},
   "source": [
    "# Functools"
   ]
  },
  {
   "cell_type": "code",
   "execution_count": null,
   "metadata": {
    "collapsed": true
   },
   "outputs": [],
   "source": [
    "#TODO Написать декоратор, выводящий время выполнения функции (просто print)"
   ]
  },
  {
   "cell_type": "code",
   "execution_count": null,
   "metadata": {
    "collapsed": true
   },
   "outputs": [],
   "source": [
    "#TODO Написать функцию расчета n-го числа фибоначчи (рекурсивно! а не по-правильному)\n",
    "\n",
    "from functools import lru_cache\n",
    "\n",
    "@lru_cache(maxsize=None)\n",
    "def fib(n):\n",
    "    pass\n",
    "    \n",
    "print([fib(n) for n in range(100)])\n",
    "print(fib.cache_info())"
   ]
  },
  {
   "cell_type": "code",
   "execution_count": null,
   "metadata": {
    "collapsed": true
   },
   "outputs": [],
   "source": [
    "#TODO измерим время выполнения функции, если что-то лежит в кеше и без"
   ]
  },
  {
   "cell_type": "code",
   "execution_count": null,
   "metadata": {
    "collapsed": true
   },
   "outputs": [],
   "source": [
    "#TODO functools.reduce Вычесть из первого элемента все остальные элементы массива\n",
    "\n",
    "a = [100, 50, 40, 20]"
   ]
  },
  {
   "cell_type": "markdown",
   "metadata": {},
   "source": [
    "# Collections"
   ]
  },
  {
   "cell_type": "code",
   "execution_count": null,
   "metadata": {},
   "outputs": [],
   "source": [
    "#Counter\n",
    "import collections\n",
    "\n",
    "c = collections.Counter()\n",
    "for word in ['spam', 'egg', 'spam', 'counter', 'counter', 'counter']:\n",
    "    c[word] += 1\n",
    "\n",
    "#еще способ создания\n",
    "collections.Counter({'counter': 3, 'spam': 2, 'egg': 1})\n",
    "collections.Counter(['spam', 'egg', 'spam', 'counter', 'counter', 'counter'])\n",
    "    \n",
    "print(c)\n",
    "print(c['counter'])\n",
    "print(c['collections'])\n",
    "print(c.elements())\n",
    "print(c.most_common(3))"
   ]
  },
  {
   "cell_type": "code",
   "execution_count": null,
   "metadata": {},
   "outputs": [],
   "source": [
    "#С Python3.6 dict упорядочен в порядке добавления элементов. Но раньше нужен был OrderedDict\n",
    "#В OrderedDict важен порядок! при вызове == \n",
    "ord_dict = collections.OrderedDict()\n",
    "\n",
    "for k, v in c.items():\n",
    "    ord_dict[k] = v"
   ]
  },
  {
   "cell_type": "code",
   "execution_count": null,
   "metadata": {
    "collapsed": true
   },
   "outputs": [],
   "source": [
    "#TODO Сделаем OrderedCounter с использованием Counter и OrderedDict\n",
    "#Hint: Counter использует под собой dict, а OrderedDict отнаследован от dict"
   ]
  },
  {
   "cell_type": "code",
   "execution_count": null,
   "metadata": {},
   "outputs": [],
   "source": [
    "ocounter = OrderedCounter(['spam', 'egg', 'spam', 'counter', 'counter', 'counter'])"
   ]
  },
  {
   "cell_type": "code",
   "execution_count": null,
   "metadata": {},
   "outputs": [],
   "source": [
    "for k, v in ocounter.items():\n",
    "    print(k)"
   ]
  },
  {
   "cell_type": "code",
   "execution_count": null,
   "metadata": {},
   "outputs": [],
   "source": [
    "defdict = collections.defaultdict(list)\n",
    "print(defdict)\n",
    "for i in range(5):\n",
    "    defdict[i].append(i)\n",
    "print(defdict)"
   ]
  },
  {
   "cell_type": "code",
   "execution_count": null,
   "metadata": {},
   "outputs": [],
   "source": [
    "Point = collections.namedtuple('Point', ['x', 'y'])\n",
    "p = Point(x=1, y=2)\n",
    "Point(x=1, y=2)\n",
    "p.x"
   ]
  },
  {
   "cell_type": "code",
   "execution_count": null,
   "metadata": {
    "collapsed": true
   },
   "outputs": [],
   "source": [
    "#TODO создадим namedtuple человека (пол, возраст, язык программирования)"
   ]
  },
  {
   "cell_type": "markdown",
   "metadata": {},
   "source": [
    "# Itertools"
   ]
  },
  {
   "cell_type": "code",
   "execution_count": null,
   "metadata": {
    "collapsed": true
   },
   "outputs": [],
   "source": [
    "#TODO Посчитаем суммы последовательных элементов hint accumulate\n",
    "inp_arr = [1, 3, 5, 7, 9, 11, 13]"
   ]
  },
  {
   "cell_type": "code",
   "execution_count": null,
   "metadata": {
    "collapsed": true
   },
   "outputs": [],
   "source": [
    "#TODO Возьмем все попарные комбинации массива inp_arr с собой hint: product"
   ]
  },
  {
   "cell_type": "code",
   "execution_count": null,
   "metadata": {
    "collapsed": true
   },
   "outputs": [],
   "source": [
    "#TODO Сделаем тоже самое, но красивее - комбинации с поворениями: hint: combination"
   ]
  }
 ],
 "metadata": {
  "anaconda-cloud": {},
  "kernelspec": {
   "display_name": "Python 3",
   "language": "python",
   "name": "python3"
  },
  "language_info": {
   "codemirror_mode": {
    "name": "ipython",
    "version": 3
   },
   "file_extension": ".py",
   "mimetype": "text/x-python",
   "name": "python",
   "nbconvert_exporter": "python",
   "pygments_lexer": "ipython3",
   "version": "3.7.1"
  }
 },
 "nbformat": 4,
 "nbformat_minor": 2
}
